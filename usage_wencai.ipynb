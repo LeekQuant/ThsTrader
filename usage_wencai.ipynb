{
 "cells": [
  {
   "attachments": {},
   "cell_type": "markdown",
   "metadata": {},
   "source": [
    "## 同花顺问财用法\n",
    "\n",
    "`WenCai.query()`支持3个参数`question:str`, `columns:list`, `limit:int`\n",
    "- 参数`question`: 字符串, 问财的问题语句,使用分号;分割, 例如:`非st;主板;非退市;行业;今日竞价涨幅小于3%;`，具体用法去问财网站查阅\n",
    "- 参数`columns`: 数组, 显示的额外列，默认只显示股票简称和股票代码, 具体列名参考问财网站, 列名是包含关系\n",
    "- 参数`limit`: 整数, 控制返回的条数，默认100条，最大100条"
   ]
  },
  {
   "cell_type": "code",
   "execution_count": 2,
   "metadata": {},
   "outputs": [],
   "source": [
    "# 初始化\n",
    "from leekquant.ths_wencai import WenCai"
   ]
  },
  {
   "cell_type": "markdown",
   "metadata": {},
   "source": [
    "### 简单查询"
   ]
  },
  {
   "cell_type": "code",
   "execution_count": 4,
   "metadata": {},
   "outputs": [
    {
     "data": {
      "text/html": [
       "<div>\n",
       "<style scoped>\n",
       "    .dataframe tbody tr th:only-of-type {\n",
       "        vertical-align: middle;\n",
       "    }\n",
       "\n",
       "    .dataframe tbody tr th {\n",
       "        vertical-align: top;\n",
       "    }\n",
       "\n",
       "    .dataframe thead th {\n",
       "        text-align: right;\n",
       "    }\n",
       "</style>\n",
       "<table border=\"1\" class=\"dataframe\">\n",
       "  <thead>\n",
       "    <tr style=\"text-align: right;\">\n",
       "      <th></th>\n",
       "      <th>股票代码</th>\n",
       "      <th>股票简称</th>\n",
       "    </tr>\n",
       "  </thead>\n",
       "  <tbody>\n",
       "    <tr>\n",
       "      <th>0</th>\n",
       "      <td>600019.SH</td>\n",
       "      <td>宝钢股份</td>\n",
       "    </tr>\n",
       "    <tr>\n",
       "      <th>1</th>\n",
       "      <td>600026.SH</td>\n",
       "      <td>中远海能</td>\n",
       "    </tr>\n",
       "    <tr>\n",
       "      <th>2</th>\n",
       "      <td>600032.SH</td>\n",
       "      <td>浙江新能</td>\n",
       "    </tr>\n",
       "    <tr>\n",
       "      <th>3</th>\n",
       "      <td>600060.SH</td>\n",
       "      <td>海信视像</td>\n",
       "    </tr>\n",
       "    <tr>\n",
       "      <th>4</th>\n",
       "      <td>600063.SH</td>\n",
       "      <td>皖维高新</td>\n",
       "    </tr>\n",
       "  </tbody>\n",
       "</table>\n",
       "</div>"
      ],
      "text/plain": [
       "        股票代码  股票简称\n",
       "0  600019.SH  宝钢股份\n",
       "1  600026.SH  中远海能\n",
       "2  600032.SH  浙江新能\n",
       "3  600060.SH  海信视像\n",
       "4  600063.SH  皖维高新"
      ]
     },
     "execution_count": 4,
     "metadata": {},
     "output_type": "execute_result"
    }
   ],
   "source": [
    "WenCai.query('量价齐升;非st;')"
   ]
  },
  {
   "attachments": {},
   "cell_type": "markdown",
   "metadata": {},
   "source": [
    "### 复杂查询\n",
    "指定额外显示列`columns`，限制返回5条`limit=5`"
   ]
  },
  {
   "cell_type": "code",
   "execution_count": 5,
   "metadata": {},
   "outputs": [
    {
     "data": {
      "text/html": [
       "<div>\n",
       "<style scoped>\n",
       "    .dataframe tbody tr th:only-of-type {\n",
       "        vertical-align: middle;\n",
       "    }\n",
       "\n",
       "    .dataframe tbody tr th {\n",
       "        vertical-align: top;\n",
       "    }\n",
       "\n",
       "    .dataframe thead th {\n",
       "        text-align: right;\n",
       "    }\n",
       "</style>\n",
       "<table border=\"1\" class=\"dataframe\">\n",
       "  <thead>\n",
       "    <tr style=\"text-align: right;\">\n",
       "      <th></th>\n",
       "      <th>股票代码</th>\n",
       "      <th>股票简称</th>\n",
       "      <th>dde大单净额[20230105]</th>\n",
       "      <th>竞价涨幅[20230106]</th>\n",
       "      <th>dde大单净额[20230106]</th>\n",
       "      <th>dde大单净额[20230104]</th>\n",
       "      <th>最新dde大单净额</th>\n",
       "    </tr>\n",
       "  </thead>\n",
       "  <tbody>\n",
       "    <tr>\n",
       "      <th>0</th>\n",
       "      <td>002865.SZ</td>\n",
       "      <td>钧达股份</td>\n",
       "      <td>40694195.3</td>\n",
       "      <td>1.957</td>\n",
       "      <td>132020855.000</td>\n",
       "      <td>8118450.0</td>\n",
       "      <td>132020855.000</td>\n",
       "    </tr>\n",
       "    <tr>\n",
       "      <th>1</th>\n",
       "      <td>603348.SH</td>\n",
       "      <td>文灿股份</td>\n",
       "      <td>15649796.0</td>\n",
       "      <td>-0.523</td>\n",
       "      <td>33110219.000</td>\n",
       "      <td>10594958.5</td>\n",
       "      <td>33110219.000</td>\n",
       "    </tr>\n",
       "    <tr>\n",
       "      <th>2</th>\n",
       "      <td>003027.SZ</td>\n",
       "      <td>同兴环保</td>\n",
       "      <td>92745854.0</td>\n",
       "      <td>2.006</td>\n",
       "      <td>26031196.000</td>\n",
       "      <td>11409339.5</td>\n",
       "      <td>26031196.000</td>\n",
       "    </tr>\n",
       "    <tr>\n",
       "      <th>3</th>\n",
       "      <td>600477.SH</td>\n",
       "      <td>杭萧钢构</td>\n",
       "      <td>9939827.0</td>\n",
       "      <td>0.000</td>\n",
       "      <td>172666521.000</td>\n",
       "      <td>1099804.2</td>\n",
       "      <td>172666521.000</td>\n",
       "    </tr>\n",
       "    <tr>\n",
       "      <th>4</th>\n",
       "      <td>000818.SZ</td>\n",
       "      <td>航锦科技</td>\n",
       "      <td>914991.5</td>\n",
       "      <td>0.514</td>\n",
       "      <td>617495.000</td>\n",
       "      <td>40649492.0</td>\n",
       "      <td>617495.000</td>\n",
       "    </tr>\n",
       "  </tbody>\n",
       "</table>\n",
       "</div>"
      ],
      "text/plain": [
       "        股票代码  股票简称  dde大单净额[20230105]  竞价涨幅[20230106] dde大单净额[20230106]  \\\n",
       "0  002865.SZ  钧达股份         40694195.3           1.957     132020855.000   \n",
       "1  603348.SH  文灿股份         15649796.0          -0.523      33110219.000   \n",
       "2  003027.SZ  同兴环保         92745854.0           2.006      26031196.000   \n",
       "3  600477.SH  杭萧钢构          9939827.0           0.000     172666521.000   \n",
       "4  000818.SZ  航锦科技           914991.5           0.514        617495.000   \n",
       "\n",
       "   dde大单净额[20230104]      最新dde大单净额  \n",
       "0          8118450.0  132020855.000  \n",
       "1         10594958.5   33110219.000  \n",
       "2         11409339.5   26031196.000  \n",
       "3          1099804.2  172666521.000  \n",
       "4         40649492.0     617495.000  "
      ]
     },
     "execution_count": 5,
     "metadata": {},
     "output_type": "execute_result"
    }
   ],
   "source": [
    "WenCai.query(question='非st;主板;非退市;行业;今日竞价涨幅小于3%;dde连3日飘红;', columns=['dde','涨幅'], limit=5)"
   ]
  }
 ],
 "metadata": {
  "kernelspec": {
   "display_name": "maotai",
   "language": "python",
   "name": "python3"
  },
  "language_info": {
   "codemirror_mode": {
    "name": "ipython",
    "version": 3
   },
   "file_extension": ".py",
   "mimetype": "text/x-python",
   "name": "python",
   "nbconvert_exporter": "python",
   "pygments_lexer": "ipython3",
   "version": "3.8.15 (default, Nov 24 2022, 08:57:44) \n[Clang 14.0.6 ]"
  },
  "orig_nbformat": 4,
  "vscode": {
   "interpreter": {
    "hash": "1dbe72dd827a0952b64ad0aacf8793cae19f6f6c266d9a6493ad615ef936bf07"
   }
  }
 },
 "nbformat": 4,
 "nbformat_minor": 2
}
